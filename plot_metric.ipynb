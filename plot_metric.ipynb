{
 "cells": [
  {
   "cell_type": "code",
   "execution_count": null,
   "metadata": {},
   "outputs": [],
   "source": [
    "import matplotlib.pyplot as plt\n",
    "import json\n",
    "import os"
   ]
  },
  {
   "cell_type": "code",
   "execution_count": null,
   "metadata": {},
   "outputs": [],
   "source": [
    "def plot_metrics(train_accs, train_losses, val_accs, val_losses, plt_show=False, out=\"metrics.png\"):\n",
    "    '''\n",
    "    Helper function for building a regular matplotlib plot.\n",
    "    '''\n",
    "    fig, ax1 = plt.subplots(figsize=(16,9))\n",
    "    \n",
    "    color = 'tab:red'\n",
    "    ax1.plot(range(len(train_losses)), train_losses, c=color, alpha=0.25, label=\"Train Loss\")\n",
    "    ax1.plot(range(len(val_losses)), val_losses, c=\"red\", label=\"Val. Loss\")\n",
    "    ax1.set_xlabel(\"Epochs\")\n",
    "    ax1.set_ylabel(\"Avg. Cross-Entropy Loss\", c=color)\n",
    "    ax1.tick_params(axis='y', labelcolor=color)\n",
    "    \n",
    "    ax2 = ax1.twinx()\n",
    "    color = 'tab:blue'\n",
    "    ax2.plot(range(len(train_accs)), train_accs, c=color, label=\"Train Acc.\", alpha=0.25)\n",
    "    ax2.plot(range(len(val_accs)), val_accs, c=\"blue\", label=\"Val. Acc.\")\n",
    "    ax2.set_ylabel(\"Accuracy\", c=color)\n",
    "    ax2.tick_params(axis='y', labelcolor=color)\n",
    "    ax2.set_ylim(-0.01,1.01)\n",
    "    \n",
    "    fig.tight_layout()\n",
    "    ax1.legend(loc=\"center\")\n",
    "    ax2.legend(loc=\"center right\")\n",
    "\n",
    "    if plt_show:\n",
    "        plt.show()\n",
    "    else:\n",
    "        plt.savefig(out)\n",
    "\n",
    "    plt.clf()"
   ]
  },
  {
   "cell_type": "code",
   "execution_count": null,
   "metadata": {},
   "outputs": [],
   "source": [
    "def plot_metric_from_folder(dir):\n",
    "    metrics = None\n",
    "    with open(dir, \"r\") as f:\n",
    "        m = json.load(f)\n",
    "        if \"metrics\" in m.keys():\n",
    "            metrics = m['metrics']\n",
    "            \n",
    "    if metrics:\n",
    "        epochs = list(metrics.keys())\n",
    "        train_loss = [metrics[epoch]['train_loss'] for epoch in epochs]\n",
    "        val_loss = [metrics[epoch]['val_loss'] for epoch in epochs]\n",
    "        train_acc = [metrics[epoch]['train_acc'] for epoch in epochs]\n",
    "        val_acc = [metrics[epoch]['val_acc'] for epoch in epochs]\n",
    "\n",
    "        plot_metrics(train_acc, train_loss, val_acc, val_loss, plt_show=True)\n",
    "        best_epoch = epochs[val_loss.index(min(val_loss))]\n",
    "        print(f\"Best epoch: {best_epoch}, Validation loss: {min(val_loss)}, Validation accuracy: {val_acc[epochs.index(best_epoch)]}\")"
   ]
  },
  {
   "cell_type": "code",
   "execution_count": null,
   "metadata": {},
   "outputs": [],
   "source": [
    "prefix = \"tiny-imagenet_reg\"\n",
    "folders = [folder for folder in os.listdir() if folder.startswith(prefix)]\n",
    "folders.sort(key=lambda x: os.path.getmtime(x))\n",
    "for folder in folders:\n",
    "    print(os.path.join(folder, \"info.json\"))\n",
    "    plot_metric_from_folder(os.path.join(folder, \"info.json\"))"
   ]
  }
 ],
 "metadata": {
  "kernelspec": {
   "display_name": "env",
   "language": "python",
   "name": "python3"
  },
  "language_info": {
   "codemirror_mode": {
    "name": "ipython",
    "version": 3
   },
   "file_extension": ".py",
   "mimetype": "text/x-python",
   "name": "python",
   "nbconvert_exporter": "python",
   "pygments_lexer": "ipython3",
   "version": "3.12.5"
  }
 },
 "nbformat": 4,
 "nbformat_minor": 2
}
